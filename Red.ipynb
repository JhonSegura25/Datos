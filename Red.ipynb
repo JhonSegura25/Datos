{
  "nbformat": 4,
  "nbformat_minor": 0,
  "metadata": {
    "colab": {
      "provenance": [],
      "authorship_tag": "ABX9TyN7N134qBR1vewxqqqE5omm",
      "include_colab_link": true
    },
    "kernelspec": {
      "name": "python3",
      "display_name": "Python 3"
    },
    "language_info": {
      "name": "python"
    }
  },
  "cells": [
    {
      "cell_type": "markdown",
      "metadata": {
        "id": "view-in-github",
        "colab_type": "text"
      },
      "source": [
        "<a href=\"https://colab.research.google.com/github/JhonSegura25/Datos/blob/main/Red.ipynb\" target=\"_parent\"><img src=\"https://colab.research.google.com/assets/colab-badge.svg\" alt=\"Open In Colab\"/></a>"
      ]
    },
    {
      "cell_type": "code",
      "execution_count": null,
      "metadata": {
        "id": "0nqMC9qWboHL"
      },
      "outputs": [],
      "source": [
        "import streamlit as st\n",
        "import tensorflow as tf\n",
        "from tensorflow.keras.applications import VGG16\n",
        "from tensorflow.keras.layers import Dense, Flatten\n",
        "from tensorflow.keras.optimizers import Adam\n",
        "from tensorflow.keras.models import Model\n",
        "from tensorflow.keras.preprocessing.image import ImageDataGenerator\n",
        "from google.colab import drive\n",
        "from sklearn import metrics"
      ]
    },
    {
      "cell_type": "code",
      "source": [
        "# Monta el drive\n",
        "drive.mount('/content/drive')"
      ],
      "metadata": {
        "id": "jpSo9DHVbpBX"
      },
      "execution_count": null,
      "outputs": []
    },
    {
      "cell_type": "code",
      "source": [
        "# Parámetros\n",
        "width_shape = 224\n",
        "height_shape = 224\n",
        "directory = '/content/drive/MyDrive/Univercidad/Univercidad_/DATA/'"
      ],
      "metadata": {
        "id": "mJPYvi1ObpEU"
      },
      "execution_count": null,
      "outputs": []
    },
    {
      "cell_type": "code",
      "source": [
        "# Widgets en la barra lateral\n",
        "st.sidebar.title(\"Parámetros\")\n",
        "batch_size = st.sidebar.slider(\"Tamaño del lote\", min_value=1, max_value=64, value=32)\n",
        "epochs = st.sidebar.slider(\"Épocas\", min_value=1, max_value=50, value=10)"
      ],
      "metadata": {
        "id": "PO6PdFGrbpHn"
      },
      "execution_count": null,
      "outputs": []
    },
    {
      "cell_type": "code",
      "source": [
        "# Carga de datos\n",
        "train_datagen = ImageDataGenerator(rescale=1./255, shear_range=0.2, zoom_range=0.2, horizontal_flip=True)\n",
        "train_generator = train_datagen.flow_from_directory(directory + 'TRAIN',\n",
        "                                                    target_size=(width_shape, height_shape),\n",
        "                                                    batch_size=batch_size,\n",
        "                                                    class_mode='binary')\n",
        "\n",
        "valid_datagen = ImageDataGenerator(rescale=1./255)\n",
        "test_set = valid_datagen.flow_from_directory(directory + 'VALID',\n",
        "                                             target_size=(width_shape, height_shape),\n",
        "                                             batch_size=batch_size,\n",
        "                                             class_mode='binary')"
      ],
      "metadata": {
        "id": "Hs0RvHzqbpKt"
      },
      "execution_count": null,
      "outputs": []
    },
    {
      "cell_type": "code",
      "source": [
        " #Construcción del modelo\n",
        "base_model2 = VGG16(weights=\"imagenet\", include_top=False, input_shape=(width_shape, height_shape, 3))\n",
        "\n",
        "# Añadir capas personalizadas\n",
        "x = Flatten()(base_model2.output)\n",
        "x = Dense(128, activation='relu')(x)\n",
        "x = Dense(128, activation='relu')(x)\n",
        "predictions = Dense(1, activation='sigmoid')(x)"
      ],
      "metadata": {
        "id": "vCfPyl5-bpNl"
      },
      "execution_count": null,
      "outputs": []
    },
    {
      "cell_type": "code",
      "source": [
        "# Crear el modelo completo\n",
        "full_model1 = Model(inputs=base_model2.input, outputs=predictions)\n",
        "\n",
        "# Congelar capas base\n",
        "for layer in base_model2.layers:\n",
        "    layer.trainable = False\n",
        "\n",
        "# Compilar el modelo\n",
        "full_model1.compile(loss='binary_crossentropy', optimizer=Adam(lr=0.001), metrics=['acc'])\n",
        "\n",
        "# Entrenamiento del modelo\n",
        "history = full_model1.fit_generator(train_generator, validation_data=test_set, workers=10, epochs=6)"
      ],
      "metadata": {
        "id": "kiBtJ08eb65B"
      },
      "execution_count": null,
      "outputs": []
    },
    {
      "cell_type": "code",
      "source": [
        "# Cargar datos de prueba\n",
        "test_data_dir = '/content/drive/MyDrive/Univercidad/Univercidad_/DATA/TEST'\n",
        "test_datagen = ImageDataGenerator(rescale=1./255)\n",
        "test_generator = test_datagen.flow_from_directory(test_data_dir,\n",
        "                                                  target_size=(width_shape, height_shape),\n",
        "                                                  batch_size=batch_size,\n",
        "                                                  class_mode='binary',\n",
        "                                                  shuffle=False)"
      ],
      "metadata": {
        "id": "C8RlnG4Eb68T"
      },
      "execution_count": null,
      "outputs": []
    },
    {
      "cell_type": "code",
      "source": [
        "# Hacer predicciones\n",
        "predictions = full_model1.predict_generator(generator=test_generator)\n",
        "y_real = test_generator.classes\n",
        "\n",
        "# Generar las etiquetas para cada predicción\n",
        "y_pred = predictions[:, 0] > 0.5"
      ],
      "metadata": {
        "id": "qn2vcfLbb6_K"
      },
      "execution_count": null,
      "outputs": []
    },
    {
      "cell_type": "code",
      "source": [
        "# Generar la matriz de confusión\n",
        "matc = metrics.confusion_matrix(y_real, y_pred)\n",
        "\n",
        "# Interfaz de Streamlit\n",
        "st.title(\"Aplicación de Clasificación de Imágenes\")\n",
        "st.sidebar.title(\"Parámetros\")\n",
        "\n",
        "# Mostrar la matriz de confusión en la interfaz de Streamlit\n",
        "st.subheader(\"Matriz de Confusión\")\n",
        "st.text(\"Verdaderos Positivos | Falsos Positivos\")\n",
        "st.text(\"Falsos Negativos | Verdaderos Negativos\")\n",
        "st.text(matc)\n",
        "\n",
        "# Mostrar el informe de clasificación\n",
        "st.subheader(\"Informe de Clasificación\")\n",
        "st.text(metrics.classification_report(y_real, y_pred, digits=4))"
      ],
      "metadata": {
        "id": "cMJo0IlDb7CC"
      },
      "execution_count": null,
      "outputs": []
    },
    {
      "cell_type": "code",
      "source": [
        "!pip install streamlit\n",
        "\n",
        "# Escribe tu aplicación Streamlit en un archivo .py\n",
        "with open('streamlit_app.py', 'w') as f:\n",
        "    f.write(\"\"\"\n",
        "    import streamlit as st\n",
        "\n",
        "    def main():\n",
        "        st.title(\"¡Hola, Streamlit en Google Colab!\")\n",
        "        st.write(\"Este es un ejemplo simple de Streamlit ejecutándose en Google Colab.\")\n",
        "\n",
        "    if __name__ == '__main__':\n",
        "        main()\n",
        "    \"\"\")\n",
        "\n",
        "# Ejecuta tu aplicación Streamlit en segundo plano\n",
        "!streamlit run streamlit_app.py &\n",
        "\n",
        "# Accede a la interfaz de usuario de Streamlit\n",
        "# Debería aparecer un enlace en la salida que puedes abrir haciendo clic\n",
        "# o copiando y pegando en tu navegador web.\n",
        "!pgrep streamlit | xargs -I {} kill -9 {}  # Detén el proceso para liberar el puerto"
      ],
      "metadata": {
        "id": "PGplc00pcCpd"
      },
      "execution_count": null,
      "outputs": []
    }
  ]
}